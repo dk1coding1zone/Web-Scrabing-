{
  "nbformat": 4,
  "nbformat_minor": 0,
  "metadata": {
    "colab": {
      "provenance": []
    },
    "kernelspec": {
      "name": "python3",
      "display_name": "Python 3"
    },
    "language_info": {
      "name": "python"
    }
  },
  "cells": [
    {
      "cell_type": "markdown",
      "source": [
        "\n",
        "\n",
        "```\n",
        "# This is formatted as code\n",
        "```\n",
        "\n",
        "## WebScraping"
      ],
      "metadata": {
        "id": "-8t-wZ5Pm3Re"
      }
    },
    {
      "cell_type": "code",
      "execution_count": null,
      "metadata": {
        "id": "rGtIZHGkblqY"
      },
      "outputs": [],
      "source": [
        "import pandas as pd\n",
        "import re\n",
        "import requests\n",
        "from bs4 import BeautifulSoup"
      ]
    },
    {
      "cell_type": "code",
      "source": [
        "url = \"https://webscraper.io/test-sites/e-commerce/allinone/computers/tablets\"\n",
        "r = requests.get(url)\n",
        "soup = BeautifulSoup(r.text,\"lxml\")\n",
        "names = soup.find_all(\"a\", class_ = \"title\")\n",
        "print(names)\n"
      ],
      "metadata": {
        "colab": {
          "base_uri": "https://localhost:8080/"
        },
        "id": "CBNmR1xHb8SB",
        "outputId": "f04e0ee7-b5ff-43a1-c16b-41993b1f9a97"
      },
      "execution_count": null,
      "outputs": [
        {
          "output_type": "stream",
          "name": "stdout",
          "text": [
            "[<a class=\"title\" href=\"/test-sites/e-commerce/allinone/product/10\" title=\"Lenovo IdeaTab\">Lenovo IdeaTab</a>, <a class=\"title\" href=\"/test-sites/e-commerce/allinone/product/15\" title=\"IdeaTab A3500L\">IdeaTab A3500L</a>, <a class=\"title\" href=\"/test-sites/e-commerce/allinone/product/11\" title=\"Acer Iconia\">Acer Iconia</a>, <a class=\"title\" href=\"/test-sites/e-commerce/allinone/product/18\" title=\"Galaxy Tab 3\">Galaxy Tab 3</a>, <a class=\"title\" href=\"/test-sites/e-commerce/allinone/product/27\" title=\"Iconia B1-730HD\">Iconia B1-730H...</a>, <a class=\"title\" href=\"/test-sites/e-commerce/allinone/product/23\" title=\"Memo Pad HD 7\">Memo Pad HD 7</a>, <a class=\"title\" href=\"/test-sites/e-commerce/allinone/product/12\" title=\"Asus MeMO Pad\">Asus MeMO Pad</a>, <a class=\"title\" href=\"/test-sites/e-commerce/allinone/product/13\" title=\"Amazon Kindle\">Amazon Kindle</a>, <a class=\"title\" href=\"/test-sites/e-commerce/allinone/product/22\" title=\"Galaxy Tab 3\">Galaxy Tab 3</a>, <a class=\"title\" href=\"/test-sites/e-commerce/allinone/product/28\" title=\"IdeaTab A8-50\">IdeaTab A8-50</a>, <a class=\"title\" href=\"/test-sites/e-commerce/allinone/product/20\" title=\"MeMO Pad 7\">MeMO Pad 7</a>, <a class=\"title\" href=\"/test-sites/e-commerce/allinone/product/17\" title=\"IdeaTab A3500-H\">IdeaTab A3500-...</a>, <a class=\"title\" href=\"/test-sites/e-commerce/allinone/product/26\" title=\"IdeaTab S5000\">IdeaTab S5000</a>, <a class=\"title\" href=\"/test-sites/e-commerce/allinone/product/21\" title=\"Galaxy Tab 4\">Galaxy Tab 4</a>, <a class=\"title\" href=\"/test-sites/e-commerce/allinone/product/16\" title=\"Galaxy Tab\">Galaxy Tab</a>, <a class=\"title\" href=\"/test-sites/e-commerce/allinone/product/25\" title=\"MeMo PAD FHD 10\">MeMo PAD FHD 1...</a>, <a class=\"title\" href=\"/test-sites/e-commerce/allinone/product/29\" title=\"Galaxy Note\">Galaxy Note</a>, <a class=\"title\" href=\"/test-sites/e-commerce/allinone/product/19\" title=\"Galaxy Note\">Galaxy Note</a>, <a class=\"title\" href=\"/test-sites/e-commerce/allinone/product/14\" title=\"iPad Mini Retina\">iPad Mini Reti...</a>, <a class=\"title\" href=\"/test-sites/e-commerce/allinone/product/24\" title=\"Galaxy Note 10.1\">Galaxy Note 10...</a>, <a class=\"title\" href=\"/test-sites/e-commerce/allinone/product/30\" title=\"Apple iPad Air\">Apple iPad Air</a>]\n"
          ]
        }
      ]
    },
    {
      "cell_type": "code",
      "source": [
        "product_name = []\n",
        "for i in names:\n",
        "    product_name.append(i.text)\n",
        "print(product_name)"
      ],
      "metadata": {
        "colab": {
          "base_uri": "https://localhost:8080/"
        },
        "id": "06CbiAhqeYue",
        "outputId": "1c823f16-5a53-4543-9f87-71d563faae16"
      },
      "execution_count": null,
      "outputs": [
        {
          "output_type": "stream",
          "name": "stdout",
          "text": [
            "['Lenovo IdeaTab', 'IdeaTab A3500L', 'Acer Iconia', 'Galaxy Tab 3', 'Iconia B1-730H...', 'Memo Pad HD 7', 'Asus MeMO Pad', 'Amazon Kindle', 'Galaxy Tab 3', 'IdeaTab A8-50', 'MeMO Pad 7', 'IdeaTab A3500-...', 'IdeaTab S5000', 'Galaxy Tab 4', 'Galaxy Tab', 'MeMo PAD FHD 1...', 'Galaxy Note', 'Galaxy Note', 'iPad Mini Reti...', 'Galaxy Note 10...', 'Apple iPad Air']\n"
          ]
        }
      ]
    },
    {
      "cell_type": "code",
      "source": [
        "prices = soup.find_all(\"h4\", class_ = \"price float-end card-title pull-right\")\n",
        "print(prices)\n",
        "\n",
        "price_list = []\n",
        "for i in prices:\n",
        "    price_list.append(i.text)\n",
        "print(price_list)\n"
      ],
      "metadata": {
        "colab": {
          "base_uri": "https://localhost:8080/"
        },
        "id": "Rb_2HUJBfAoo",
        "outputId": "d7694c83-8ece-4b00-dc16-9bb6eafad437"
      },
      "execution_count": null,
      "outputs": [
        {
          "output_type": "stream",
          "name": "stdout",
          "text": [
            "[<h4 class=\"price float-end card-title pull-right\">$69.99</h4>, <h4 class=\"price float-end card-title pull-right\">$88.99</h4>, <h4 class=\"price float-end card-title pull-right\">$96.99</h4>, <h4 class=\"price float-end card-title pull-right\">$97.99</h4>, <h4 class=\"price float-end card-title pull-right\">$99.99</h4>, <h4 class=\"price float-end card-title pull-right\">$101.99</h4>, <h4 class=\"price float-end card-title pull-right\">$102.99</h4>, <h4 class=\"price float-end card-title pull-right\">$103.99</h4>, <h4 class=\"price float-end card-title pull-right\">$107.99</h4>, <h4 class=\"price float-end card-title pull-right\">$121.99</h4>, <h4 class=\"price float-end card-title pull-right\">$130.99</h4>, <h4 class=\"price float-end card-title pull-right\">$148.99</h4>, <h4 class=\"price float-end card-title pull-right\">$172.99</h4>, <h4 class=\"price float-end card-title pull-right\">$233.99</h4>, <h4 class=\"price float-end card-title pull-right\">$251.99</h4>, <h4 class=\"price float-end card-title pull-right\">$320.99</h4>, <h4 class=\"price float-end card-title pull-right\">$399.99</h4>, <h4 class=\"price float-end card-title pull-right\">$489.99</h4>, <h4 class=\"price float-end card-title pull-right\">$537.99</h4>, <h4 class=\"price float-end card-title pull-right\">$587.99</h4>, <h4 class=\"price float-end card-title pull-right\">$603.99</h4>]\n",
            "['$69.99', '$88.99', '$96.99', '$97.99', '$99.99', '$101.99', '$102.99', '$103.99', '$107.99', '$121.99', '$130.99', '$148.99', '$172.99', '$233.99', '$251.99', '$320.99', '$399.99', '$489.99', '$537.99', '$587.99', '$603.99']\n"
          ]
        }
      ]
    },
    {
      "cell_type": "code",
      "source": [
        "descr = soup.find_all(\"p\", class_ = \"description card-text\")\n",
        "print(descr)\n",
        "\n",
        "descr_list = []\n",
        "for i in descr:\n",
        "    descr_list.append(i.text)\n",
        "print(descr_list)"
      ],
      "metadata": {
        "colab": {
          "base_uri": "https://localhost:8080/"
        },
        "id": "Dxc1z4Xqf-1Z",
        "outputId": "22e75978-0658-4e4c-8445-99486137c1ec"
      },
      "execution_count": null,
      "outputs": [
        {
          "output_type": "stream",
          "name": "stdout",
          "text": [
            "[<p class=\"description card-text\">7\" screen, Android</p>, <p class=\"description card-text\">Black, 7\" IPS, Quad-Core 1.2GHz, 8GB, Android 4.2</p>, <p class=\"description card-text\">7\" screen, Android, 16GB</p>, <p class=\"description card-text\">7\", 8GB, Wi-Fi, Android 4.2, White</p>, <p class=\"description card-text\">Black, 7\", 1.6GHz Dual-Core, 8GB, Android 4.4</p>, <p class=\"description card-text\">IPS, Dual-Core 1.2GHz, 8GB, Android 4.3</p>, <p class=\"description card-text\">7\" screen, Android, 8GB</p>, <p class=\"description card-text\">6\" screen, wifi</p>, <p class=\"description card-text\">7\", 8GB, Wi-Fi, Android 4.2, Yellow</p>, <p class=\"description card-text\">Blue, 8\" IPS, Quad-Core 1.3GHz, 16GB, Android 4.2</p>, <p class=\"description card-text\">White, 7\", Atom 1.2GHz, 8GB, Android 4.4</p>, <p class=\"description card-text\">Blue, 7\" IPS, Quad-Core 1.3GHz, 8GB, 3G, Android 4.2</p>, <p class=\"description card-text\">Silver, 7\" IPS, Quad-Core 1.2Ghz, 16GB, 3G, Android 4.2</p>, <p class=\"description card-text\">LTE (SM-T235), Quad-Core 1.2GHz, 8GB, Black</p>, <p class=\"description card-text\">16GB, White</p>, <p class=\"description card-text\">White, 10.1\" IPS, 1.6GHz, 2GB, 16GB, Android 4.2</p>, <p class=\"description card-text\">10.1\", 3G, Android 4.0, Garnet Red</p>, <p class=\"description card-text\">12.2\", 32GB, WiFi, Android 4.4, White</p>, <p class=\"description card-text\">Wi-Fi + Cellular, 32GB, Silver</p>, <p class=\"description card-text\">10.1\", 32GB, Black</p>, <p class=\"description card-text\">Wi-Fi, 64GB, Silver</p>]\n",
            "['7\" screen, Android', 'Black, 7\" IPS, Quad-Core 1.2GHz, 8GB, Android 4.2', '7\" screen, Android, 16GB', '7\", 8GB, Wi-Fi, Android 4.2, White', 'Black, 7\", 1.6GHz Dual-Core, 8GB, Android 4.4', 'IPS, Dual-Core 1.2GHz, 8GB, Android 4.3', '7\" screen, Android, 8GB', '6\" screen, wifi', '7\", 8GB, Wi-Fi, Android 4.2, Yellow', 'Blue, 8\" IPS, Quad-Core 1.3GHz, 16GB, Android 4.2', 'White, 7\", Atom 1.2GHz, 8GB, Android 4.4', 'Blue, 7\" IPS, Quad-Core 1.3GHz, 8GB, 3G, Android 4.2', 'Silver, 7\" IPS, Quad-Core 1.2Ghz, 16GB, 3G, Android 4.2', 'LTE (SM-T235), Quad-Core 1.2GHz, 8GB, Black', '16GB, White', 'White, 10.1\" IPS, 1.6GHz, 2GB, 16GB, Android 4.2', '10.1\", 3G, Android 4.0, Garnet Red', '12.2\", 32GB, WiFi, Android 4.4, White', 'Wi-Fi + Cellular, 32GB, Silver', '10.1\", 32GB, Black', 'Wi-Fi, 64GB, Silver']\n"
          ]
        }
      ]
    },
    {
      "cell_type": "code",
      "source": [
        "revw = soup.find_all(\"p\", class_ = \"review-count float-end\")\n",
        "print(revw)\n",
        "\n",
        "revw_list = []\n",
        "for i in revw:\n",
        "  revw_list.append(i.text)\n",
        "print(revw_list)"
      ],
      "metadata": {
        "colab": {
          "base_uri": "https://localhost:8080/"
        },
        "id": "CgZU3NJRhHDj",
        "outputId": "808ee781-ee4a-443d-bac9-f73007a5bc7a"
      },
      "execution_count": null,
      "outputs": [
        {
          "output_type": "stream",
          "name": "stdout",
          "text": [
            "[<p class=\"review-count float-end\">7 reviews</p>, <p class=\"review-count float-end\">7 reviews</p>, <p class=\"review-count float-end\">7 reviews</p>, <p class=\"review-count float-end\">2 reviews</p>, <p class=\"review-count float-end\">1 reviews</p>, <p class=\"review-count float-end\">10 reviews</p>, <p class=\"review-count float-end\">14 reviews</p>, <p class=\"review-count float-end\">3 reviews</p>, <p class=\"review-count float-end\">14 reviews</p>, <p class=\"review-count float-end\">13 reviews</p>, <p class=\"review-count float-end\">11 reviews</p>, <p class=\"review-count float-end\">9 reviews</p>, <p class=\"review-count float-end\">8 reviews</p>, <p class=\"review-count float-end\">1 reviews</p>, <p class=\"review-count float-end\">14 reviews</p>, <p class=\"review-count float-end\">7 reviews</p>, <p class=\"review-count float-end\">12 reviews</p>, <p class=\"review-count float-end\">9 reviews</p>, <p class=\"review-count float-end\">8 reviews</p>, <p class=\"review-count float-end\">6 reviews</p>, <p class=\"review-count float-end\">7 reviews</p>]\n",
            "['7 reviews', '7 reviews', '7 reviews', '2 reviews', '1 reviews', '10 reviews', '14 reviews', '3 reviews', '14 reviews', '13 reviews', '11 reviews', '9 reviews', '8 reviews', '1 reviews', '14 reviews', '7 reviews', '12 reviews', '9 reviews', '8 reviews', '6 reviews', '7 reviews']\n"
          ]
        }
      ]
    },
    {
      "cell_type": "code",
      "source": [],
      "metadata": {
        "id": "P7P-Jingt2lV"
      },
      "execution_count": null,
      "outputs": []
    },
    {
      "cell_type": "code",
      "source": [
        "df = pd.DataFrame({\"Product Name\": product_name, \"Price\": price_list, \"Description\": descr_list})\n",
        "print(df)"
      ],
      "metadata": {
        "colab": {
          "base_uri": "https://localhost:8080/"
        },
        "id": "85VT4dZZhj9S",
        "outputId": "d92c302e-5852-48d3-85ee-a70706d595ab"
      },
      "execution_count": null,
      "outputs": [
        {
          "output_type": "stream",
          "name": "stdout",
          "text": [
            "         Product Name    Price  \\\n",
            "0      Lenovo IdeaTab   $69.99   \n",
            "1      IdeaTab A3500L   $88.99   \n",
            "2         Acer Iconia   $96.99   \n",
            "3        Galaxy Tab 3   $97.99   \n",
            "4   Iconia B1-730H...   $99.99   \n",
            "5       Memo Pad HD 7  $101.99   \n",
            "6       Asus MeMO Pad  $102.99   \n",
            "7       Amazon Kindle  $103.99   \n",
            "8        Galaxy Tab 3  $107.99   \n",
            "9       IdeaTab A8-50  $121.99   \n",
            "10         MeMO Pad 7  $130.99   \n",
            "11  IdeaTab A3500-...  $148.99   \n",
            "12      IdeaTab S5000  $172.99   \n",
            "13       Galaxy Tab 4  $233.99   \n",
            "14         Galaxy Tab  $251.99   \n",
            "15  MeMo PAD FHD 1...  $320.99   \n",
            "16        Galaxy Note  $399.99   \n",
            "17        Galaxy Note  $489.99   \n",
            "18  iPad Mini Reti...  $537.99   \n",
            "19  Galaxy Note 10...  $587.99   \n",
            "20     Apple iPad Air  $603.99   \n",
            "\n",
            "                                          Description  \n",
            "0                                  7\" screen, Android  \n",
            "1   Black, 7\" IPS, Quad-Core 1.2GHz, 8GB, Android 4.2  \n",
            "2                            7\" screen, Android, 16GB  \n",
            "3                  7\", 8GB, Wi-Fi, Android 4.2, White  \n",
            "4       Black, 7\", 1.6GHz Dual-Core, 8GB, Android 4.4  \n",
            "5             IPS, Dual-Core 1.2GHz, 8GB, Android 4.3  \n",
            "6                             7\" screen, Android, 8GB  \n",
            "7                                     6\" screen, wifi  \n",
            "8                 7\", 8GB, Wi-Fi, Android 4.2, Yellow  \n",
            "9   Blue, 8\" IPS, Quad-Core 1.3GHz, 16GB, Android 4.2  \n",
            "10           White, 7\", Atom 1.2GHz, 8GB, Android 4.4  \n",
            "11  Blue, 7\" IPS, Quad-Core 1.3GHz, 8GB, 3G, Andro...  \n",
            "12  Silver, 7\" IPS, Quad-Core 1.2Ghz, 16GB, 3G, An...  \n",
            "13        LTE (SM-T235), Quad-Core 1.2GHz, 8GB, Black  \n",
            "14                                        16GB, White  \n",
            "15   White, 10.1\" IPS, 1.6GHz, 2GB, 16GB, Android 4.2  \n",
            "16                 10.1\", 3G, Android 4.0, Garnet Red  \n",
            "17              12.2\", 32GB, WiFi, Android 4.4, White  \n",
            "18                     Wi-Fi + Cellular, 32GB, Silver  \n",
            "19                                 10.1\", 32GB, Black  \n",
            "20                                Wi-Fi, 64GB, Silver  \n"
          ]
        }
      ]
    },
    {
      "cell_type": "code",
      "source": [
        "df.to_csv(\"product_details.csv\")"
      ],
      "metadata": {
        "id": "A2JbOEBfiAkS"
      },
      "execution_count": null,
      "outputs": []
    },
    {
      "cell_type": "markdown",
      "source": [
        "##Nested Tags"
      ],
      "metadata": {
        "id": "GemGqM9pnG7j"
      }
    },
    {
      "cell_type": "code",
      "source": [
        "import pandas as pd\n",
        "import requests\n",
        "from bs4 import BeautifulSoup"
      ],
      "metadata": {
        "id": "57pmpP0dnMpm"
      },
      "execution_count": null,
      "outputs": []
    },
    {
      "cell_type": "code",
      "source": [
        "url = \"https://webscraper.io/test-sites/e-commerce/allinone/computers/tablets\"\n",
        "r = requests.get(url)\n",
        "soup = BeautifulSoup(r.text,\"lxml\")\n",
        "boxes = soup.find_all(\"div\", class_ = \"col-md-4 col-xl-4 col-lg-4\")[2]\n",
        "print(boxes)"
      ],
      "metadata": {
        "colab": {
          "base_uri": "https://localhost:8080/"
        },
        "id": "pmcm2RconO3x",
        "outputId": "ff45dd2c-5fea-416c-f17a-90347792ab93"
      },
      "execution_count": null,
      "outputs": [
        {
          "output_type": "stream",
          "name": "stdout",
          "text": [
            "<div class=\"col-md-4 col-xl-4 col-lg-4\">\n",
            "<div class=\"card thumbnail\">\n",
            "<div class=\"product-wrapper card-body\">\n",
            "<img alt=\"item\" class=\"img-fluid card-img-top image img-responsive\" src=\"/images/test-sites/e-commerce/items/cart2.png\"/>\n",
            "<div class=\"caption\">\n",
            "<h4 class=\"price float-end card-title pull-right\">$96.99</h4>\n",
            "<h4>\n",
            "<a class=\"title\" href=\"/test-sites/e-commerce/allinone/product/11\" title=\"Acer Iconia\">Acer Iconia</a>\n",
            "</h4>\n",
            "<p class=\"description card-text\">7\" screen, Android, 16GB</p>\n",
            "</div>\n",
            "<div class=\"ratings\">\n",
            "<p class=\"review-count float-end\">7 reviews</p>\n",
            "<p data-rating=\"1\">\n",
            "<span class=\"ws-icon ws-icon-star\"></span>\n",
            "</p>\n",
            "</div>\n",
            "</div>\n",
            "</div>\n",
            "</div>\n"
          ]
        }
      ]
    },
    {
      "cell_type": "code",
      "source": [
        "names = soup.find(\"a\", class_ = \"title\").text\n",
        "print(names)\n",
        "\n",
        "prices = soup.find(\"h4\", class_ = \"price float-end card-title pull-right\").text\n",
        "print(prices)\n",
        "\n",
        "descr = soup.find(\"p\", class_ = \"description card-text\").text\n",
        "print(descr)\n",
        "\n",
        "revw = soup.find(\"p\", class_ = \"review-count float-end\").text\n",
        "print(revw)\n"
      ],
      "metadata": {
        "colab": {
          "base_uri": "https://localhost:8080/"
        },
        "id": "blREm25xoTY0",
        "outputId": "584f2d1f-ec45-4505-8b2d-0c4ee994b124"
      },
      "execution_count": null,
      "outputs": [
        {
          "output_type": "stream",
          "name": "stdout",
          "text": [
            "Lenovo IdeaTab\n",
            "$69.99\n",
            "7\" screen, Android\n",
            "7 reviews\n"
          ]
        }
      ]
    },
    {
      "cell_type": "markdown",
      "source": [
        "## Table Scrabing"
      ],
      "metadata": {
        "id": "0ZkysyPsqVQX"
      }
    },
    {
      "cell_type": "code",
      "source": [
        "import pandas as pd\n",
        "import requests\n",
        "from bs4 import BeautifulSoup"
      ],
      "metadata": {
        "id": "LKPa4CsWqYkJ"
      },
      "execution_count": null,
      "outputs": []
    },
    {
      "cell_type": "code",
      "source": [
        "url = \"https://www.iplt20.com/auction\"\n",
        "r = requests.get(url)\n",
        "soup = BeautifulSoup(r.text,\"lxml\")\n",
        "table_fetch = soup.find(\"table\", class_ = \"table table-sm table-hover screenertable\")\n",
        "# print(table)\n",
        "headers = table_fetch.find_all(\"th\")\n",
        "print(headers)"
      ],
      "metadata": {
        "colab": {
          "base_uri": "https://localhost:8080/"
        },
        "id": "dGbhPmKarUuz",
        "outputId": "12b17c46-dd54-44ff-aa8e-0d452754acd2"
      },
      "execution_count": null,
      "outputs": [
        {
          "output_type": "stream",
          "name": "stdout",
          "text": [
            "[<th scope=\"col\">Company</th>, <th scope=\"col\">Price<span class=\"muted\">Rs.</span></th>, <th scope=\"col\">Day High<span class=\"muted\">Rs.</span></th>]\n"
          ]
        }
      ]
    },
    {
      "cell_type": "code",
      "source": [
        "headers_list = []\n",
        "for i in headers:\n",
        "  headers_list.append(i.text)\n",
        "print(headers_list)"
      ],
      "metadata": {
        "colab": {
          "base_uri": "https://localhost:8080/"
        },
        "id": "D53jvsn3t4CR",
        "outputId": "66335405-065b-4bd2-fbed-1c554c76642d"
      },
      "execution_count": null,
      "outputs": [
        {
          "output_type": "stream",
          "name": "stdout",
          "text": [
            "['Company', 'PriceRs.', 'Day HighRs.']\n"
          ]
        }
      ]
    },
    {
      "cell_type": "code",
      "source": [
        "df = pd.DataFrame(columns = headers_list)"
      ],
      "metadata": {
        "id": "RoU127MBxk3J"
      },
      "execution_count": null,
      "outputs": []
    },
    {
      "cell_type": "code",
      "source": [
        "rows = table_fetch.find_all(\"tr\")\n",
        "# print(rows)\n",
        "for i in rows[1:]:\n",
        "  data = i.find_all(\"td\")\n",
        "  row = [tr.text for tr in data]\n",
        "  print(row)\n",
        "  print(len(df))\n",
        "  l = len(df)\n",
        "  df.loc[l] = row\n",
        "  # print(df)\n",
        "  df.to_csv(\"stock_market_data.csv\")\n",
        "\n"
      ],
      "metadata": {
        "colab": {
          "base_uri": "https://localhost:8080/"
        },
        "id": "pL_vNEK4vis4",
        "outputId": "59460d3f-84db-45b3-f8ca-a8f7ac14c6bf"
      },
      "execution_count": null,
      "outputs": [
        {
          "output_type": "stream",
          "name": "stdout",
          "text": [
            "['\\nMazagon Dock Ship\\n', '3877.55', '3990.00']\n",
            "31\n",
            "['\\nCochin Shipyard\\n', '2122.35', '2175.00']\n",
            "32\n",
            "['\\nGarden Reach Ship\\n', '1630.00', '1686.95']\n",
            "33\n",
            "['\\nParas Defence &Space\\n', '1156.90', '1156.90']\n",
            "34\n",
            "['\\nDixon Technologies\\n', '11242.85', '11458.90']\n",
            "35\n",
            "['\\nHFCL\\n', '117.95', '120.30']\n",
            "36\n",
            "['\\nABB India\\n', '9020.00', '9145.00']\n",
            "37\n",
            "['\\nAmbuja Cement\\n', '677.20', '689.00']\n",
            "38\n",
            "['\\nMahindra & Mahindra\\n', '2928.60', '2946.00']\n",
            "39\n",
            "['\\nSiemens\\n', '7790.20', '7913.05']\n",
            "40\n",
            "['\\nICICI Lombard Gen.\\n', '1730.90', '1766.95']\n",
            "41\n",
            "['\\nGMR Airports Infra.\\n', '93.92', '94.55']\n",
            "42\n",
            "['\\nShriram Finance\\n', '2732.15', '2747.00']\n",
            "43\n",
            "['\\nTrent\\n', '5245.55', '5294.00']\n",
            "44\n",
            "['\\nOracle Finl. Service\\n', '9510.70', '9793.50']\n",
            "45\n"
          ]
        }
      ]
    },
    {
      "cell_type": "code",
      "source": [],
      "metadata": {
        "id": "chmCgUHYw83p"
      },
      "execution_count": null,
      "outputs": []
    }
  ]
}